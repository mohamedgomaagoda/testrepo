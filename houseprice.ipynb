{
  "nbformat": 4,
  "nbformat_minor": 0,
  "metadata": {
    "colab": {
      "provenance": [],
      "authorship_tag": "ABX9TyPQBFwME7AEI9W7hEQi/K9f",
      "include_colab_link": true
    },
    "kernelspec": {
      "name": "python3",
      "display_name": "Python 3"
    },
    "language_info": {
      "name": "python"
    }
  },
  "cells": [
    {
      "cell_type": "markdown",
      "metadata": {
        "id": "view-in-github",
        "colab_type": "text"
      },
      "source": [
        "<a href=\"https://colab.research.google.com/github/mohamedgomaagoda/testrepo/blob/main/houseprice.ipynb\" target=\"_parent\"><img src=\"https://colab.research.google.com/assets/colab-badge.svg\" alt=\"Open In Colab\"/></a>"
      ]
    },
    {
      "cell_type": "code",
      "execution_count": null,
      "metadata": {
        "id": "nmlP3feD-pGL"
      },
      "outputs": [],
      "source": [
        "import numpy as np\n",
        "import pandas as pd\n",
        "import seaborn as sns\n",
        "import matplotlib.pyplot as plt\n",
        "import warnings\n",
        "warnings.filterwarnings(\"ignore\")\n",
        "\n",
        "from sklearn.model_selection import train_test_split, cross_val_score\n",
        "from sklearn.preprocessing import StandardScaler\n",
        "from sklearn.metrics import r2_score, mean_absolute_error, mean_squared_error\n",
        "\n",
        "from sklearn.linear_model import LinearRegression\n",
        "from sklearn.linear_model import Ridge\n",
        "from sklearn.linear_model import Lasso\n",
        "from sklearn.linear_model import ElasticNet\n",
        "from sklearn.ensemble import RandomForestRegressor\n",
        "from sklearn.svm import SVR\n",
        "from xgboost import XGBRegressor\n",
        "from sklearn.preprocessing import PolynomialFeatures\n",
        "df = pd.read_csv(\"../input/house-prices-advanced-regression-techniques/train.csv\")\n",
        "df.head()\n",
        "df.shape\n",
        "df.info()\n",
        "df.describe()\n",
        "plt.figure(figsize=(10,8))\n",
        "sns.heatmap(df.corr(), cmap=\"RdBu\")\n",
        "plt.title(\"Correlations Between Variables\", size=15)\n",
        "plt.show()\n",
        "important_num_cols = list(df.corr()[\"SalePrice\"][(df.corr()[\"SalePrice\"]>0.50) | (df.corr()[\"SalePrice\"]<-0.50)].index)\n",
        "cat_cols = [\"MSZoning\", \"Utilities\",\"BldgType\",\"Heating\",\"KitchenQual\",\"SaleCondition\",\"LandSlope\"]\n",
        "important_cols = important_num_cols + cat_cols\n",
        "\n",
        "df = df[important_cols]\n",
        "print(\"Missing Values by Column\")\n",
        "print(\"-\"*30)\n",
        "print(df.isna().sum())\n",
        "print(\"-\"*30)\n",
        "print(\"TOTAL MISSING VALUES:\",df.isna().sum().sum())\n",
        "X_train, X_test, y_train, y_test = train_test_split(X, y, test_size=0.2, random_state=42)\n",
        "lin_reg = LinearRegression()\n",
        "lin_reg.fit(X_train, y_train)\n",
        "predictions = lin_reg.predict(X_test)\n",
        "random_forest = RandomForestRegressor(n_estimators=100)\n",
        "random_forest.fit(X_train, y_train)\n",
        "predictions = random_forest.predict(X_test)\n",
        "xgb = XGBRegressor(n_estimators=1000, learning_rate=0.01)\n",
        "xgb.fit(X_train, y_train)\n",
        "predictions = xgb.predict(X_test)\n",
        "elastic_net = ElasticNet()\n",
        "elastic_net.fit(X_train, y_train)\n",
        "predictions = elastic_net.predict(X_test)"
      ]
    }
  ]
}